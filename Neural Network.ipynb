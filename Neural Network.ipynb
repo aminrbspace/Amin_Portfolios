{
 "cells": [
  {
   "cell_type": "code",
   "execution_count": 14,
   "metadata": {},
   "outputs": [
    {
     "name": "stdout",
     "output_type": "stream",
     "text": [
      "random starting synaptic weights:\n",
      "[[-0.16595599]\n",
      " [ 0.44064899]\n",
      " [-0.99977125]]\n",
      "synaptic weights after training\n",
      "[[12.00870061]\n",
      " [-0.2044116 ]\n",
      " [-5.8002822 ]]\n",
      "Outputs after tranining: \n",
      "[[0.00301758]\n",
      " [0.99753723]\n",
      " [0.99799161]\n",
      " [0.00246109]]\n"
     ]
    }
   ],
   "source": [
    "#https://www.youtube.com/watch?v=kft1AJ9WVDk\n",
    "import numpy as np\n",
    "def sigmoid(x):\n",
    "    return 1/(1+np.exp(-x))\n",
    "\n",
    "def sigmoid_derivatives(x):\n",
    "    return x*(1-x)\n",
    "    \n",
    "\n",
    "\n",
    "trainning_inputs=np.array([[0,0,1],[1,1,1],[1,0,1],[0,1,1]])\n",
    "\n",
    "training_outputs=np.array([[0,1,1,0]]).T\n",
    "\n",
    "np.random.seed(1)\n",
    "\n",
    "synaptic_weights=2*np.random.random((3,1))-1\n",
    "\n",
    "print('random starting synaptic weights:')\n",
    "print(synaptic_weights)\n",
    "\n",
    "for iteration in range(100000):\n",
    "    input_layer=trainning_inputs\n",
    "    outputs=sigmoid(np.dot(input_layer,synaptic_weights))\n",
    "    \n",
    "    error=training_outputs-outputs  #calculated outputs-actual outputs\n",
    "    adjusments=error*sigmoid_derivatives(outputs)\n",
    "    synaptic_weights+=np.dot(input_layer.T,adjusments)\n",
    "    \n",
    "print('synaptic weights after training')\n",
    "print(synaptic_weights)\n",
    "print('Outputs after tranining: ')\n",
    "print(outputs)\n"
   ]
  },
  {
   "cell_type": "code",
   "execution_count": null,
   "metadata": {},
   "outputs": [],
   "source": []
  }
 ],
 "metadata": {
  "kernelspec": {
   "display_name": "Python 3",
   "language": "python",
   "name": "python3"
  },
  "language_info": {
   "codemirror_mode": {
    "name": "ipython",
    "version": 3
   },
   "file_extension": ".py",
   "mimetype": "text/x-python",
   "name": "python",
   "nbconvert_exporter": "python",
   "pygments_lexer": "ipython3",
   "version": "3.7.0"
  }
 },
 "nbformat": 4,
 "nbformat_minor": 2
}
